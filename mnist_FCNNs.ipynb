{
 "cells": [
  {
   "cell_type": "code",
   "execution_count": 68,
   "id": "796bdc0b",
   "metadata": {},
   "outputs": [],
   "source": [
    "import numpy as np\n",
    "import matplotlib.pyplot as plt\n",
    "from tensorflow.keras.datasets import mnist        \n",
    "from tensorflow import keras\n",
    "from tensorflow.keras.layers import Dense, Flatten\n",
    "import warnings\n",
    "\n",
    "warnings.filterwarnings(\"ignore\")"
   ]
  },
  {
   "cell_type": "code",
   "execution_count": 69,
   "id": "dcf4d1f7",
   "metadata": {},
   "outputs": [],
   "source": [
    "(x_train, y_train), (x_test, y_test) = mnist.load_data()"
   ]
  },
  {
   "cell_type": "markdown",
   "id": "918bd816",
   "metadata": {},
   "source": [
    "###### x - image, y - digit"
   ]
  },
  {
   "cell_type": "code",
   "execution_count": 70,
   "id": "0b646477",
   "metadata": {
    "scrolled": true
   },
   "outputs": [
    {
     "name": "stdout",
     "output_type": "stream",
     "text": [
      "MNIST Dataset Shape:\n",
      "X_train: (60000, 28, 28)\n",
      "Y_train: (60000,)\n",
      "X_test:  (10000, 28, 28)\n",
      "Y_test:  (10000,)\n"
     ]
    }
   ],
   "source": [
    "print('MNIST Dataset Shape:')\n",
    "print('X_train: ' + str(x_train.shape))\n",
    "print('Y_train: ' + str(y_train.shape))\n",
    "print('X_test:  '  + str(x_test.shape))\n",
    "print('Y_test:  '  + str(y_test.shape))"
   ]
  },
  {
   "cell_type": "markdown",
   "id": "f1903492",
   "metadata": {},
   "source": [
    "### Преобразование int значение пикселей в float"
   ]
  },
  {
   "cell_type": "code",
   "execution_count": 71,
   "id": "b57d69ac",
   "metadata": {},
   "outputs": [],
   "source": [
    "x_train = x_train / 255\n",
    "x_test = x_test / 255"
   ]
  },
  {
   "cell_type": "markdown",
   "id": "dc595109",
   "metadata": {},
   "source": [
    "### Преобразование числа в вектор"
   ]
  },
  {
   "cell_type": "code",
   "execution_count": 72,
   "id": "d052b5e2",
   "metadata": {},
   "outputs": [],
   "source": [
    "y_train_cat = keras.utils.to_categorical(y_train, 10)\n",
    "y_test_cat = keras.utils.to_categorical(y_test, 10)"
   ]
  },
  {
   "cell_type": "markdown",
   "id": "626b3164",
   "metadata": {},
   "source": [
    "### Создание и обучение модели"
   ]
  },
  {
   "cell_type": "code",
   "execution_count": 73,
   "id": "f9da7a85",
   "metadata": {},
   "outputs": [],
   "source": [
    "model = keras.Sequential([\n",
    "    Flatten(input_shape=(28, 28, 1)),\n",
    "    Dense(128, activation='relu'),\n",
    "    Dense(10, activation='softmax')\n",
    "])"
   ]
  },
  {
   "cell_type": "code",
   "execution_count": 74,
   "id": "091a9b63",
   "metadata": {},
   "outputs": [
    {
     "name": "stdout",
     "output_type": "stream",
     "text": [
      "Model: \"sequential_4\"\n",
      "_________________________________________________________________\n",
      " Layer (type)                Output Shape              Param #   \n",
      "=================================================================\n",
      " flatten_4 (Flatten)         (None, 784)               0         \n",
      "                                                                 \n",
      " dense_8 (Dense)             (None, 128)               100480    \n",
      "                                                                 \n",
      " dense_9 (Dense)             (None, 10)                1290      \n",
      "                                                                 \n",
      "=================================================================\n",
      "Total params: 101,770\n",
      "Trainable params: 101,770\n",
      "Non-trainable params: 0\n",
      "_________________________________________________________________\n"
     ]
    }
   ],
   "source": [
    "model.summary()"
   ]
  },
  {
   "cell_type": "code",
   "execution_count": 75,
   "id": "f37500b9",
   "metadata": {},
   "outputs": [],
   "source": [
    "model.compile(optimizer='adam',\n",
    "             loss='categorical_crossentropy',\n",
    "             metrics=['accuracy'])"
   ]
  },
  {
   "cell_type": "code",
   "execution_count": 76,
   "id": "d2386c83",
   "metadata": {},
   "outputs": [
    {
     "name": "stdout",
     "output_type": "stream",
     "text": [
      "Epoch 1/10\n",
      "3375/3375 [==============================] - 6s 1ms/step - loss: 0.2432 - accuracy: 0.9288 - val_loss: 0.1115 - val_accuracy: 0.9673\n",
      "Epoch 2/10\n",
      "3375/3375 [==============================] - 5s 1ms/step - loss: 0.1082 - accuracy: 0.9674 - val_loss: 0.0949 - val_accuracy: 0.9723\n",
      "Epoch 3/10\n",
      "3375/3375 [==============================] - 5s 1ms/step - loss: 0.0729 - accuracy: 0.9781 - val_loss: 0.0750 - val_accuracy: 0.9778\n",
      "Epoch 4/10\n",
      "3375/3375 [==============================] - 5s 1ms/step - loss: 0.0535 - accuracy: 0.9834 - val_loss: 0.0810 - val_accuracy: 0.9760\n",
      "Epoch 5/10\n",
      "3375/3375 [==============================] - 5s 1ms/step - loss: 0.0419 - accuracy: 0.9864 - val_loss: 0.0689 - val_accuracy: 0.9802\n",
      "Epoch 6/10\n",
      "3375/3375 [==============================] - 5s 1ms/step - loss: 0.0330 - accuracy: 0.9891 - val_loss: 0.0745 - val_accuracy: 0.9800\n",
      "Epoch 7/10\n",
      "3375/3375 [==============================] - 6s 2ms/step - loss: 0.0271 - accuracy: 0.9913 - val_loss: 0.0769 - val_accuracy: 0.9772\n",
      "Epoch 8/10\n",
      "3375/3375 [==============================] - 6s 2ms/step - loss: 0.0212 - accuracy: 0.9931 - val_loss: 0.0867 - val_accuracy: 0.9778\n",
      "Epoch 9/10\n",
      "3375/3375 [==============================] - 5s 1ms/step - loss: 0.0191 - accuracy: 0.9940 - val_loss: 0.0860 - val_accuracy: 0.9792\n",
      "Epoch 10/10\n",
      "3375/3375 [==============================] - 5s 1ms/step - loss: 0.0159 - accuracy: 0.9951 - val_loss: 0.0866 - val_accuracy: 0.9807\n"
     ]
    },
    {
     "data": {
      "text/plain": [
       "<keras.callbacks.History at 0x1f911634070>"
      ]
     },
     "execution_count": 76,
     "metadata": {},
     "output_type": "execute_result"
    }
   ],
   "source": [
    "model.fit(x_train, y_train_cat, batch_size=16, epochs=10, validation_split=0.1)"
   ]
  },
  {
   "cell_type": "code",
   "execution_count": 56,
   "id": "995be622",
   "metadata": {},
   "outputs": [
    {
     "name": "stdout",
     "output_type": "stream",
     "text": [
      "313/313 [==============================] - 1s 1ms/step - loss: 0.0831 - accuracy: 0.9786\n"
     ]
    },
    {
     "data": {
      "text/plain": [
       "[0.08313867449760437, 0.978600025177002]"
      ]
     },
     "execution_count": 56,
     "metadata": {},
     "output_type": "execute_result"
    }
   ],
   "source": [
    "model.evaluate(x_test, y_test_cat)"
   ]
  },
  {
   "cell_type": "code",
   "execution_count": null,
   "id": "cacd5c0b",
   "metadata": {},
   "outputs": [],
   "source": []
  }
 ],
 "metadata": {
  "kernelspec": {
   "display_name": "Python 3 (ipykernel)",
   "language": "python",
   "name": "python3"
  },
  "language_info": {
   "codemirror_mode": {
    "name": "ipython",
    "version": 3
   },
   "file_extension": ".py",
   "mimetype": "text/x-python",
   "name": "python",
   "nbconvert_exporter": "python",
   "pygments_lexer": "ipython3",
   "version": "3.10.2"
  }
 },
 "nbformat": 4,
 "nbformat_minor": 5
}
